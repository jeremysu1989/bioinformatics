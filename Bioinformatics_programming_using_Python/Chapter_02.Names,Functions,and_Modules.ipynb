{
 "cells": [
  {
   "cell_type": "markdown",
   "id": "94e516be-f7bb-4aeb-981b-cc06f4254e68",
   "metadata": {},
   "source": [
    "#### Function parameters\n",
    "When a function is called, python evaluates each of the call's argument expressions. Then it assigns the first parameter name to the first argument's value, and so on.\n"
   ]
  },
  {
   "cell_type": "code",
   "execution_count": 12,
   "id": "7ee0c6f6-76f6-4f78-bf9c-82dbab72783a",
   "metadata": {},
   "outputs": [
    {
     "data": {
      "text/plain": [
       "True"
      ]
     },
     "execution_count": 12,
     "metadata": {},
     "output_type": "execute_result"
    }
   ],
   "source": [
    "def validation_base_sequence(base_sequence):\n",
    "    seq = base_sequence.upper()\n",
    "    return len(seq) == (seq.count('T') + seq.count('C') +\n",
    "                        seq.count('G') + seq.count('A'))\n",
    "\n",
    "seq = 'AAAT'\n",
    "validation_base_sequence('tacgcatgatcg')"
   ]
  },
  {
   "cell_type": "markdown",
   "id": "7097cb38-fcfa-4e66-ac52-b39920a37ed9",
   "metadata": {},
   "source": [
    "#### commments and Documantation\n",
    "The # character tells python to ignore the rest of the line."
   ]
  },
  {
   "cell_type": "code",
   "execution_count": 13,
   "id": "69ee7e22-2c0e-4382-88f3-2eeaf1599975",
   "metadata": {},
   "outputs": [
    {
     "name": "stdout",
     "output_type": "stream",
     "text": [
      "Help on function validation_base_sequence in module __main__:\n",
      "\n",
      "validation_base_sequence(base_sequence)\n",
      "\n"
     ]
    }
   ],
   "source": [
    "help(validation_base_sequence)"
   ]
  },
  {
   "cell_type": "code",
   "execution_count": 17,
   "id": "f400c8ee-4a14-4cf8-88d7-1b8f2614c2cd",
   "metadata": {},
   "outputs": [
    {
     "data": {
      "text/plain": [
       "0.4482758620689655"
      ]
     },
     "execution_count": 17,
     "metadata": {},
     "output_type": "execute_result"
    }
   ],
   "source": [
    "# defining a function to compute GC content\n",
    "def gc_content(base_seq):\n",
    "    \"\"\" return the percentage of G and C in seq\"\"\"\n",
    "    seq = base_seq.upper()\n",
    "    return (seq.count('G') + seq.count('C'))/len(seq)\n",
    "seq50 = \"AATCAGCATGACT\"\n",
    "seq75 = \"ATCCCGCGCCATA\"\n",
    "seq40 = \"ATCAGCATCAGACTACGATACACACACAC\"\n",
    "gc_content(seq50)\n",
    "gc_content(seq65)\n",
    "gc_content(seq45)"
   ]
  },
  {
   "cell_type": "code",
   "execution_count": null,
   "id": "fdc4888d-448a-4216-bcb7-48aaa0051069",
   "metadata": {},
   "outputs": [],
   "source": []
  },
  {
   "cell_type": "code",
   "execution_count": null,
   "id": "7c55dee3-2ed2-4611-856d-131c082c3619",
   "metadata": {},
   "outputs": [],
   "source": []
  }
 ],
 "metadata": {
  "kernelspec": {
   "display_name": "Python 3 (ipykernel)",
   "language": "python",
   "name": "python3"
  },
  "language_info": {
   "codemirror_mode": {
    "name": "ipython",
    "version": 3
   },
   "file_extension": ".py",
   "mimetype": "text/x-python",
   "name": "python",
   "nbconvert_exporter": "python",
   "pygments_lexer": "ipython3",
   "version": "3.9.12"
  }
 },
 "nbformat": 4,
 "nbformat_minor": 5
}
