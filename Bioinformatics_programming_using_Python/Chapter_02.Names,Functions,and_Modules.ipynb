{
 "cells": [
  {
   "cell_type": "markdown",
   "id": "94e516be-f7bb-4aeb-981b-cc06f4254e68",
   "metadata": {},
   "source": [
    "#### Function parameters\n",
    "When a function is called, python evaluates each of the call's argument expressions. Then it assigns the first parameter name to the first argument's value, and so on.\n"
   ]
  },
  {
   "cell_type": "code",
   "execution_count": 4,
   "id": "7ee0c6f6-76f6-4f78-bf9c-82dbab72783a",
   "metadata": {},
   "outputs": [
    {
     "data": {
      "text/plain": [
       "True"
      ]
     },
     "execution_count": 4,
     "metadata": {},
     "output_type": "execute_result"
    }
   ],
   "source": [
    "def validation_base_sequence(base_sequence):\n",
    "    seq = base_sequence.upper()\n",
    "    return len(seq) == (seq.count('T') + seq.count('C') +\n",
    "                        seq.count('G') + seq.count('A'))\n",
    "\n",
    "seq = 'AAAT'\n",
    "validation_base_sequence('tacgcatgatcg')"
   ]
  },
  {
   "cell_type": "markdown",
   "id": "7097cb38-fcfa-4e66-ac52-b39920a37ed9",
   "metadata": {},
   "source": [
    "#### commments and Documantation\n",
    "The # character tells python to ignore the rest of the line."
   ]
  },
  {
   "cell_type": "code",
   "execution_count": 5,
   "id": "69ee7e22-2c0e-4382-88f3-2eeaf1599975",
   "metadata": {},
   "outputs": [
    {
     "name": "stdout",
     "output_type": "stream",
     "text": [
      "Help on function validation_base_sequence in module __main__:\n",
      "\n",
      "validation_base_sequence(base_sequence)\n",
      "\n"
     ]
    }
   ],
   "source": [
    "help(validation_base_sequence)"
   ]
  },
  {
   "cell_type": "code",
   "execution_count": 11,
   "id": "f400c8ee-4a14-4cf8-88d7-1b8f2614c2cd",
   "metadata": {},
   "outputs": [
    {
     "data": {
      "text/plain": [
       "0.4482758620689655"
      ]
     },
     "execution_count": 11,
     "metadata": {},
     "output_type": "execute_result"
    }
   ],
   "source": [
    "# defining a function to compute GC content\n",
    "def gc_content1(base_seq):\n",
    "    \"\"\" return the percentage of G and C in seq\"\"\"\n",
    "    seq = base_seq.upper()\n",
    "    return (seq.count('G') + seq.count('C'))/len(seq)\n",
    "seq50 = \"AATCAGCATGACT\"\n",
    "seq65 = \"ATCCCGCGCCATA\"\n",
    "seq45 = \"ATCAGCATCAGACTACGATACACACACAC\"\n",
    "gc_content1(seq50)\n",
    "gc_content1(seq65)\n",
    "gc_content1(seq45)"
   ]
  },
  {
   "cell_type": "markdown",
   "id": "a24b74f5-aecd-478d-b66d-65d228092c98",
   "metadata": {},
   "source": [
    "an assertion statement tests whether an expression is true of false, causing an error if it is false.\n",
    "```\n",
    "assert expression\n",
    "assert expression1 expression2\n",
    "```"
   ]
  },
  {
   "cell_type": "code",
   "execution_count": 17,
   "id": "7c55dee3-2ed2-4611-856d-131c082c3619",
   "metadata": {},
   "outputs": [
    {
     "data": {
      "text/plain": [
       "0.4482758620689655"
      ]
     },
     "execution_count": 17,
     "metadata": {},
     "output_type": "execute_result"
    }
   ],
   "source": [
    "# adding an assertion to the gc_content function\n",
    "def gc_content2(base_seq):\n",
    "    assert validation_base_sequence(base_seq),\\\n",
    "            'argument has invalid characters'\n",
    "    seq = base_seq.upper()\n",
    "    return (seq.count('G') + seq.count('C'))/len(seq)\n",
    "seq63 = \"ATCCCGCGCCATA\"\n",
    "seq44 = \"ATCAGCATCAGACTACGATACACACACAC\"\n",
    "gc_content2(seq63)\n",
    "gc_content2(seq44)"
   ]
  },
  {
   "cell_type": "markdown",
   "id": "ce905193-6122-456d-8e46-0de81246bc32",
   "metadata": {},
   "source": [
    "#### default parameter values\n",
    "python provides a way to assign a default value to the parameter that will be used if no explicit value is included in a call to the function."
   ]
  },
  {
   "cell_type": "code",
   "execution_count": 82,
   "id": "4b6a36e8-04a1-479c-81e5-784f1403ad5a",
   "metadata": {},
   "outputs": [
    {
     "data": {
      "text/plain": [
       "False"
      ]
     },
     "execution_count": 82,
     "metadata": {},
     "output_type": "execute_result"
    }
   ],
   "source": [
    "def validation_base_sequence2(base_sequence, RNAflag):\n",
    "    seq = base_sequence.upper()\n",
    "    return len(seq) == (seq.count('U' if RNAflag else 'T') +\n",
    "                        seq.count('C') +\n",
    "                        seq.count('G') + \n",
    "                        seq.count('A'))\n",
    "validation_base_sequence2('ATCG',False)\n",
    "validation_base_sequence2('AUCG',False)\n",
    "validation_base_sequence2('ATCG',True)\n",
    "validation_base_sequence2('AUCG',False)"
   ]
  },
  {
   "cell_type": "code",
   "execution_count": 26,
   "id": "366cc94d-4a69-4de9-ab29-80095aa4b6ad",
   "metadata": {},
   "outputs": [
    {
     "data": {
      "text/plain": [
       "0.5555555555555556"
      ]
     },
     "execution_count": 26,
     "metadata": {},
     "output_type": "execute_result"
    }
   ],
   "source": [
    "# adding an assertion and default parameter to the gc_content function\n",
    "def gc_content3(base_seq,RNAflag):\n",
    "    assert validation_base_sequence2(base_seq,RNAflag),\\\n",
    "            'argument has invalid characters'\n",
    "    seq = base_seq.upper()\n",
    "    return (seq.count('G') + seq.count('C'))/len(seq)\n",
    "\n",
    "gc_content3('ACCCUUUGG',True)\n",
    "gc_content3('ACCCTTTGG',False)"
   ]
  },
  {
   "cell_type": "markdown",
   "id": "b9ee8ad9-d0bd-4434-ba8a-64472bca7a25",
   "metadata": {},
   "source": [
    "#### Using modules\n",
    "python offers a large selection of optional types, functions, and methods. These are defined by *module* files placed in a *library* directory as part of python's installation.\n",
    "\n",
    "**Importing**  A module's contents are brought into the interpreter's environment by an *import statement*.\n",
    "```\n",
    "import model_name\n",
    "```\n",
    "the module os provides an interface to the computer’s operating system.\n",
    "\n",
    "selective import\n",
    "```\n",
    "form modulename import name1, name2, ...\n",
    "from modulename import *\n",
    "```\n",
    "\n",
    "One useful module is *arndom*, which provides various ways to generate random numbers."
   ]
  },
  {
   "cell_type": "code",
   "execution_count": 55,
   "id": "712bb2c3-aacf-4e4a-a665-0397a7f6c92c",
   "metadata": {},
   "outputs": [
    {
     "data": {
      "text/plain": [
       "'U'"
      ]
     },
     "execution_count": 55,
     "metadata": {},
     "output_type": "execute_result"
    }
   ],
   "source": [
    "import os\n",
    "os\n",
    "os.getcwd()\n",
    "os.getlogin()\n",
    "import sys\n",
    "sys\n",
    "import random\n",
    "random.gauss(2,6)\n",
    "from random import randint\n",
    "randint(0,3)\n",
    "'UACG'[0]"
   ]
  },
  {
   "cell_type": "code",
   "execution_count": 67,
   "id": "c22f4487-111c-468e-9e5a-fe1cdaa4d7ec",
   "metadata": {},
   "outputs": [
    {
     "data": {
      "text/plain": [
       "'UCG'"
      ]
     },
     "execution_count": 67,
     "metadata": {},
     "output_type": "execute_result"
    }
   ],
   "source": [
    "# generating a random codon or sequence\n",
    "from random import randint\n",
    "def random_base(RNAflag = False):\n",
    "    return('UCAG' if RNAflag else 'TACG')[randint(0,3)]\n",
    "def random_condon(RNAflag = False):\n",
    "    return random_base(RNAflag) + random_base(RNAflag) + random_base(RNAflag)\n",
    "random_base()\n",
    "random_condon(1)"
   ]
  },
  {
   "cell_type": "markdown",
   "id": "5b30d0be-5948-4468-aea9-4b3ca92d6560",
   "metadata": {},
   "source": [
    "下面这个函数的功能是：生成输入序列长度以内的随机数，得到这个随机位置的碱基，讲这个碱基从ACTG四个碱基中去除掉，然后从剩余的三个碱基中随机取一个碱基，再将3者拼接起来，返回单位点突变的序列"
   ]
  },
  {
   "cell_type": "code",
   "execution_count": 78,
   "id": "32c8c685-d09f-4a46-b1b0-45f9eeb2734f",
   "metadata": {},
   "outputs": [
    {
     "data": {
      "text/plain": [
       "'ATGTACGT'"
      ]
     },
     "execution_count": 78,
     "metadata": {},
     "output_type": "execute_result"
    }
   ],
   "source": [
    "# shows a function that simulates single-base mutation\n",
    "from random import randint\n",
    "def replace_base_randomly_using_names(base_seq):\n",
    "    \"\"\"Return a sequence with the base at a randomly selected position of base_seq replaced by a base chosen randomly from the three bases that are not at that position\"\"\"\n",
    "    position = randint(0, len(base_seq)-1)\n",
    "    base = base_seq[position]\n",
    "    bases = 'TACG'\n",
    "    bases.replace(base,'')      # replaced with empty string\n",
    "    newbase = bases[randint(0,2)]\n",
    "    beginning = base_seq[0:position]\n",
    "    end = base_seq[position+1:]\n",
    "    return beginning + newbase + end\n",
    "\n",
    "replace_base_randomly_using_names(\"ACGTACGT\")"
   ]
  },
  {
   "cell_type": "code",
   "execution_count": 79,
   "id": "e0bced76-b60a-447d-aa59-13c96de438f2",
   "metadata": {},
   "outputs": [
    {
     "data": {
      "text/plain": [
       "'AAGT'"
      ]
     },
     "execution_count": 79,
     "metadata": {},
     "output_type": "execute_result"
    }
   ],
   "source": [
    "# a better version of the same function\n",
    "from random import randint\n",
    "def replace_base_randomly_using_names2(base_seq):\n",
    "    position = randint(0,len(base_seq)-1)\n",
    "    return (base_seq[0:position] +\n",
    "           'ATCG'.replace(base_seq[position],'')[randint(0,2)]\n",
    "           +base_seq[position+1:])\n",
    "\n",
    "replace_base_randomly_using_names2(\"ACGT\")"
   ]
  },
  {
   "cell_type": "markdown",
   "id": "1983bd38-4ced-4131-9b80-5c3ddfd67f34",
   "metadata": {},
   "source": [
    "#### python files"
   ]
  },
  {
   "cell_type": "code",
   "execution_count": 87,
   "id": "fd3f3e33-e625-4abf-b2e9-09c1552897fd",
   "metadata": {},
   "outputs": [
    {
     "name": "stdout",
     "output_type": "stream",
     "text": [
      "All test passed\n"
     ]
    }
   ],
   "source": [
    "def validation_base_sequence2(base_sequence, RNAflag):\n",
    "    seq = base_sequence.upper()\n",
    "    return len(seq) == (seq.count('U' if RNAflag else 'T') +\n",
    "                        seq.count('C') +\n",
    "                        seq.count('G') + \n",
    "                        seq.count('A'))\n",
    "\n",
    "def gc_content3(base_seq,RNAflag):\n",
    "    assert validation_base_sequence2(base_seq,RNAflag),\\\n",
    "            'argument has invalid characters'\n",
    "    seq = base_seq.upper()\n",
    "    return (seq.count('G') + seq.count('C'))/len(seq)\n",
    "\n",
    "def recognition_site(base_seq, recognition_seq):\n",
    "    return base_seq.find(recognition_seq)\n",
    "\n",
    "def test():\n",
    "    #assert validation_base_sequence2(\"ACUG\")\n",
    "    #assert validation_base_sequence2(\"\")\n",
    "    #assert not validation_base_sequence2(\"ACTG\")\n",
    "    \n",
    "    assert validation_base_sequence2(\"ACTG\", False)\n",
    "    #assert not validation_base_sequence2(\"ACUG\", True)\n",
    "    assert validation_base_sequence2(\"ACUG\",True)\n",
    "    \n",
    "    assert .5 == gc_content3(\"ACTG\",False)\n",
    "    assert 1.0 == gc_content3(\"CCGG\",False)\n",
    "    assert 0.25 == gc_content3(\"ACTT\",False)\n",
    "    \n",
    "    print(\"All test passed\")\n",
    "    \n",
    "test()    "
   ]
  }
 ],
 "metadata": {
  "kernelspec": {
   "display_name": "Python 3 (ipykernel)",
   "language": "python",
   "name": "python3"
  },
  "language_info": {
   "codemirror_mode": {
    "name": "ipython",
    "version": 3
   },
   "file_extension": ".py",
   "mimetype": "text/x-python",
   "name": "python",
   "nbconvert_exporter": "python",
   "pygments_lexer": "ipython3",
   "version": "3.9.12"
  }
 },
 "nbformat": 4,
 "nbformat_minor": 5
}
